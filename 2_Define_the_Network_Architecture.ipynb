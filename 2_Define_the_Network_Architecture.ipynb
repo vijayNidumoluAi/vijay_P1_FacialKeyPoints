{
  "nbformat": 4,
  "nbformat_minor": 0,
  "metadata": {
    "colab": {
      "name": "2. Define the Network Architecture.ipynb",
      "version": "0.3.2",
      "provenance": [],
      "collapsed_sections": [],
      "include_colab_link": true
    },
    "kernelspec": {
      "display_name": "Python [conda env:ai]",
      "language": "python",
      "name": "conda-env-ai-py"
    }
  },
  "cells": [
    {
      "cell_type": "markdown",
      "metadata": {
        "id": "view-in-github",
        "colab_type": "text"
      },
      "source": [
        "<a href=\"https://colab.research.google.com/github/vijayNidumoluAi/vijay_P1_FacialKeyPoints/blob/master/2_Define_the_Network_Architecture.ipynb\" target=\"_parent\"><img src=\"https://colab.research.google.com/assets/colab-badge.svg\" alt=\"Open In Colab\"/></a>"
      ]
    },
    {
      "metadata": {
        "id": "j3JzFxLLFX06",
        "colab_type": "text"
      },
      "cell_type": "markdown",
      "source": [
        "## Define the Convolutional Neural Network\n",
        "\n",
        "After you've looked at the data you're working with and, in this case, know the shapes of the images and of the keypoints, you are ready to define a convolutional neural network that can *learn* from this data.\n",
        "\n",
        "In this notebook and in `models.py`, you will:\n",
        "1. Define a CNN with images as input and keypoints as output\n",
        "2. Construct the transformed FaceKeypointsDataset, just as before\n",
        "3. Train the CNN on the training data, tracking loss\n",
        "4. See how the trained model performs on test data\n",
        "5. If necessary, modify the CNN structure and model hyperparameters, so that it performs *well* **\\***\n",
        "\n",
        "**\\*** What does *well* mean?\n",
        "\n",
        "\"Well\" means that the model's loss decreases during training **and**, when applied to test image data, the model produces keypoints that closely match the true keypoints of each face. And you'll see examples of this later in the notebook.\n",
        "\n",
        "---\n"
      ]
    },
    {
      "metadata": {
        "id": "nriRy6BjFhtH",
        "colab_type": "text"
      },
      "cell_type": "markdown",
      "source": [
        "**Following cells are required to be able to run this note book using google colaboratory**"
      ]
    },
    {
      "metadata": {
        "id": "wr2d7uIFFe_U",
        "colab_type": "text"
      },
      "cell_type": "markdown",
      "source": [
        ""
      ]
    },
    {
      "metadata": {
        "id": "qPcKTCYeFqmW",
        "colab_type": "code",
        "colab": {
          "base_uri": "https://localhost:8080/",
          "height": 34
        },
        "outputId": "07f037ea-6b21-45a0-903b-ceb7a50de69f"
      },
      "cell_type": "code",
      "source": [
        "import os\n",
        "from google.colab import drive\n",
        "drive.mount('/content/drive')\n",
        "# following is path of downloaded and uploaded project in my google drive\n",
        "os.chdir('drive/My Drive/Colab Notebooks/P1_Facial_Keypoints/P1_Facial_Keypoints-master/') "
      ],
      "execution_count": 2,
      "outputs": [
        {
          "output_type": "stream",
          "text": [
            "Drive already mounted at /content/drive; to attempt to forcibly remount, call drive.mount(\"/content/drive\", force_remount=True).\n"
          ],
          "name": "stdout"
        }
      ]
    },
    {
      "metadata": {
        "id": "fpmeW7qnFX08",
        "colab_type": "text"
      },
      "cell_type": "markdown",
      "source": [
        "## CNN Architecture\n",
        "\n",
        "Recall that CNN's are defined by a few types of layers:\n",
        "* Convolutional layers\n",
        "* Maxpooling layers\n",
        "* Fully-connected layers\n",
        "\n",
        "You are required to use the above layers and encouraged to add multiple convolutional layers and things like dropout layers that may prevent overfitting. You are also encouraged to look at literature on keypoint detection, such as [this paper](https://arxiv.org/pdf/1710.00977.pdf), to help you determine the structure of your network.\n",
        "\n",
        "\n",
        "### TODO: Define your model in the provided file `models.py` file\n",
        "\n",
        "This file is mostly empty but contains the expected name and some TODO's for creating your model.\n",
        "\n",
        "---"
      ]
    },
    {
      "metadata": {
        "id": "H8RTfxHcFX0-",
        "colab_type": "text"
      },
      "cell_type": "markdown",
      "source": [
        "## PyTorch Neural Nets\n",
        "\n",
        "To define a neural network in PyTorch, you define the layers of a model in the function `__init__` and define the feedforward behavior of a network that employs those initialized layers in the function `forward`, which takes in an input image tensor, `x`. The structure of this Net class is shown below and left for you to fill in.\n",
        "\n",
        "Note: During training, PyTorch will be able to perform backpropagation by keeping track of the network's feedforward behavior and using autograd to calculate the update to the weights in the network.\n",
        "\n",
        "#### Define the Layers in ` __init__`\n",
        "As a reminder, a conv/pool layer may be defined like this (in `__init__`):\n",
        "```\n",
        "# 1 input image channel (for grayscale images), 32 output channels/feature maps, 3x3 square convolution kernel\n",
        "self.conv1 = nn.Conv2d(1, 32, 3)\n",
        "\n",
        "# maxpool that uses a square window of kernel_size=2, stride=2\n",
        "self.pool = nn.MaxPool2d(2, 2)      \n",
        "```\n",
        "\n",
        "#### Refer to Layers in `forward`\n",
        "Then referred to in the `forward` function like this, in which the conv1 layer has a ReLu activation applied to it before maxpooling is applied:\n",
        "```\n",
        "x = self.pool(F.relu(self.conv1(x)))\n",
        "```\n",
        "\n",
        "Best practice is to place any layers whose weights will change during the training process in `__init__` and refer to them in the `forward` function; any layers or functions that always behave in the same way, such as a pre-defined activation function, should appear *only* in the `forward` function."
      ]
    },
    {
      "metadata": {
        "id": "TLXqnh2wFX1A",
        "colab_type": "text"
      },
      "cell_type": "markdown",
      "source": [
        "#### Why models.py\n",
        "\n",
        "You are tasked with defining the network in the `models.py` file so that any models you define can be saved and loaded by name in different notebooks in this project directory. For example, by defining a CNN class called `Net` in `models.py`, you can then create that same architecture in this and other notebooks by simply importing the class and instantiating a model:\n",
        "```\n",
        "    from models import Net\n",
        "    net = Net()\n",
        "```"
      ]
    },
    {
      "metadata": {
        "id": "LbJaXcgNFX1B",
        "colab_type": "code",
        "colab": {}
      },
      "cell_type": "code",
      "source": [
        "# import the usual resources\n",
        "import matplotlib.pyplot as plt\n",
        "import numpy as np\n",
        "\n",
        "# watch for any changes in model.py, if it changes, re-load it automatically\n",
        "%load_ext autoreload\n",
        "%autoreload 2"
      ],
      "execution_count": 0,
      "outputs": []
    },
    {
      "metadata": {
        "id": "f-Tx8E25FX1H",
        "colab_type": "code",
        "colab": {
          "base_uri": "https://localhost:8080/",
          "height": 272
        },
        "outputId": "fb1b21b9-afad-4e46-9692-3143da6f0ba9"
      },
      "cell_type": "code",
      "source": [
        "## TODO: Define the Net in models.py\n",
        "\n",
        "import torch\n",
        "import torch.nn as nn\n",
        "import torch.nn.functional as F\n",
        "\n",
        "## TODO: Once you've define the network, you can instantiate it\n",
        "# one example conv layer has been provided for you\n",
        "from models import Net\n",
        "\n",
        "net = Net()\n",
        "print(net)"
      ],
      "execution_count": 6,
      "outputs": [
        {
          "output_type": "stream",
          "text": [
            "Net(\n",
            "  (conv1): Conv2d(1, 64, kernel_size=(3, 3), stride=(1, 1), padding=(1, 1))\n",
            "  (pool): MaxPool2d(kernel_size=2, stride=2, padding=0, dilation=1, ceil_mode=False)\n",
            "  (fc1_drop): Dropout(p=0.1)\n",
            "  (conv2): Conv2d(64, 128, kernel_size=(3, 3), stride=(1, 1), padding=(1, 1))\n",
            "  (fc2_drop): Dropout(p=0.2)\n",
            "  (conv3): Conv2d(128, 256, kernel_size=(3, 3), stride=(1, 1), padding=(1, 1))\n",
            "  (fc3_drop): Dropout(p=0.3)\n",
            "  (conv4): Conv2d(256, 256, kernel_size=(3, 3), stride=(1, 1), padding=(1, 1))\n",
            "  (fc4_drop): Dropout(p=0.4)\n",
            "  (fc5_drop): Dropout(p=0.5)\n",
            "  (conv5): Conv2d(256, 256, kernel_size=(3, 3), stride=(1, 1), padding=(1, 1))\n",
            "  (fc_4096): Linear(in_features=12544, out_features=4096, bias=True)\n",
            "  (fc_136): Linear(in_features=4096, out_features=136, bias=True)\n",
            ")\n"
          ],
          "name": "stdout"
        }
      ]
    },
    {
      "metadata": {
        "collapsed": true,
        "id": "i-yABTf_FX1M",
        "colab_type": "text"
      },
      "cell_type": "markdown",
      "source": [
        "## Transform the dataset \n",
        "\n",
        "To prepare for training, create a transformed dataset of images and keypoints.\n",
        "\n",
        "### TODO: Define a data transform\n",
        "\n",
        "In PyTorch, a convolutional neural network expects a torch image of a consistent size as input. For efficient training, and so your model's loss does not blow up during training, it is also suggested that you normalize the input images and keypoints. The necessary transforms have been defined in `data_load.py` and you **do not** need to modify these; take a look at this file (you'll see the same transforms that were defined and applied in Notebook 1).\n",
        "\n",
        "To define the data transform below, use a [composition](http://pytorch.org/tutorials/beginner/data_loading_tutorial.html#compose-transforms) of:\n",
        "1. Rescaling and/or cropping the data, such that you are left with a square image (the suggested size is 224x224px)\n",
        "2. Normalizing the images and keypoints; turning each RGB image into a grayscale image with a color range of [0, 1] and transforming the given keypoints into a range of [-1, 1]\n",
        "3. Turning these images and keypoints into Tensors\n",
        "\n",
        "These transformations have been defined in `data_load.py`, but it's up to you to call them and create a `data_transform` below. **This transform will be applied to the training data and, later, the test data**. It will change how you go about displaying these images and keypoints, but these steps are essential for efficient training.\n",
        "\n",
        "As a note, should you want to perform data augmentation (which is optional in this project), and randomly rotate or shift these images, a square image size will be useful; rotating a 224x224 image by 90 degrees will result in the same shape of output."
      ]
    },
    {
      "metadata": {
        "id": "mgmb06UTFX1O",
        "colab_type": "code",
        "colab": {}
      },
      "cell_type": "code",
      "source": [
        "from torch.utils.data import Dataset, DataLoader\n",
        "from torchvision import transforms, utils\n",
        "\n",
        "# the dataset we created in Notebook 1 is copied in the helper file `data_load.py`\n",
        "from data_load import FacialKeypointsDataset\n",
        "# the transforms we defined in Notebook 1 are in the helper file `data_load.py`\n",
        "from data_load import Rescale, RandomCrop, Normalize, ToTensor\n",
        "\n",
        "\n",
        "## TODO: define the data_transform using transforms.Compose([all tx's, . , .])\n",
        "# order matters! i.e. rescaling should come before a smaller crop\n",
        "data_transform = transforms.Compose([Rescale(250), RandomCrop(224), Normalize(), ToTensor()])\n",
        "\n",
        "# testing that you've defined a transform\n",
        "assert(data_transform is not None), 'Define a data_transform'"
      ],
      "execution_count": 0,
      "outputs": []
    },
    {
      "metadata": {
        "id": "CTvS7L6wFX1S",
        "colab_type": "code",
        "colab": {
          "base_uri": "https://localhost:8080/",
          "height": 102
        },
        "outputId": "b60cf937-9b9d-473c-c7f3-b5879409065d"
      },
      "cell_type": "code",
      "source": [
        "# create the transformed dataset\n",
        "transformed_dataset = FacialKeypointsDataset(csv_file='data/training_frames_keypoints.csv',\n",
        "                                             root_dir='data/training/',\n",
        "                                             transform=data_transform)\n",
        "\n",
        "\n",
        "print('Number of images: ', len(transformed_dataset))\n",
        "\n",
        "# iterate through the transformed dataset and print some stats about the first few samples\n",
        "for i in range(4):\n",
        "    sample = transformed_dataset[i]\n",
        "    print(i, sample['image'].size(), sample['keypoints'].size())"
      ],
      "execution_count": 10,
      "outputs": [
        {
          "output_type": "stream",
          "text": [
            "('Number of images: ', 3462)\n",
            "(0, torch.Size([1, 224, 224]), torch.Size([68, 2]))\n",
            "(1, torch.Size([1, 224, 224]), torch.Size([68, 2]))\n",
            "(2, torch.Size([1, 224, 224]), torch.Size([68, 2]))\n",
            "(3, torch.Size([1, 224, 224]), torch.Size([68, 2]))\n"
          ],
          "name": "stdout"
        }
      ]
    },
    {
      "metadata": {
        "id": "w7wss0BKFX1X",
        "colab_type": "text"
      },
      "cell_type": "markdown",
      "source": [
        "## Batching and loading data\n",
        "\n",
        "Next, having defined the transformed dataset, we can use PyTorch's DataLoader class to load the training data in batches of whatever size as well as to shuffle the data for training the model. You can read more about the parameters of the DataLoader, in [this documentation](http://pytorch.org/docs/master/data.html).\n",
        "\n",
        "#### Batch size\n",
        "Decide on a good batch size for training your model. Try both small and large batch sizes and note how the loss decreases as the model trains.\n",
        "\n",
        "**Note for Windows users**: Please change the `num_workers` to 0 or you may face some issues with your DataLoader failing."
      ]
    },
    {
      "metadata": {
        "id": "CiB4cd5cFX1Z",
        "colab_type": "code",
        "colab": {}
      },
      "cell_type": "code",
      "source": [
        "# load training data in batches\n",
        "batch_size = 32\n",
        "\n",
        "train_loader = DataLoader(transformed_dataset, \n",
        "                          batch_size=batch_size,\n",
        "                          shuffle=True, \n",
        "                          num_workers=4)\n"
      ],
      "execution_count": 0,
      "outputs": []
    },
    {
      "metadata": {
        "id": "UYBesVm1I4yf",
        "colab_type": "text"
      },
      "cell_type": "markdown",
      "source": [
        "# Enable GPU\n",
        "\n",
        "_**Note**: You could enable this line to run the codes on GPU_"
      ]
    },
    {
      "metadata": {
        "id": "I5qmjLJlMyNY",
        "colab_type": "code",
        "colab": {}
      },
      "cell_type": "code",
      "source": [
        "use_cuda = True"
      ],
      "execution_count": 0,
      "outputs": []
    },
    {
      "metadata": {
        "id": "oQ6isf-kI2HD",
        "colab_type": "code",
        "colab": {}
      },
      "cell_type": "code",
      "source": [
        "if use_cuda and torch.cuda.is_available():\n",
        "    net.cuda()"
      ],
      "execution_count": 0,
      "outputs": []
    },
    {
      "metadata": {
        "id": "ku8uoYOtFX1d",
        "colab_type": "text"
      },
      "cell_type": "markdown",
      "source": [
        "## Before training\n",
        "\n",
        "Take a look at how this model performs before it trains. You should see that the keypoints it predicts start off in one spot and don't match the keypoints on a face at all! It's interesting to visualize this behavior so that you can compare it to the model after training and see how the model has improved.\n",
        "\n",
        "#### Load in the test dataset\n",
        "\n",
        "The test dataset is one that this model has *not* seen before, meaning it has not trained with these images. We'll load in this test data and before and after training, see how your model performs on this set!\n",
        "\n",
        "To visualize this test data, we have to go through some un-transformation steps to turn our images into python images from tensors and to turn our keypoints back into a recognizable range. "
      ]
    },
    {
      "metadata": {
        "id": "b0uO5jywFX1f",
        "colab_type": "code",
        "colab": {}
      },
      "cell_type": "code",
      "source": [
        "# load in the test data, using the dataset class\n",
        "# AND apply the data_transform you defined above\n",
        "\n",
        "# create the test dataset\n",
        "test_dataset = FacialKeypointsDataset(csv_file='data/test_frames_keypoints.csv',\n",
        "                                             root_dir='data/test/',\n",
        "                                             transform=data_transform)\n",
        "\n"
      ],
      "execution_count": 0,
      "outputs": []
    },
    {
      "metadata": {
        "id": "bhrgmKZPFX1m",
        "colab_type": "code",
        "colab": {}
      },
      "cell_type": "code",
      "source": [
        "# load test data in batches\n",
        "batch_size = 32\n",
        "\n",
        "test_loader = DataLoader(test_dataset, \n",
        "                          batch_size=batch_size,\n",
        "                          shuffle=True, \n",
        "                          num_workers=4)"
      ],
      "execution_count": 0,
      "outputs": []
    },
    {
      "metadata": {
        "id": "Av1PJhrEFX1r",
        "colab_type": "text"
      },
      "cell_type": "markdown",
      "source": [
        "## Apply the model on a test sample\n",
        "\n",
        "To test the model on a test sample of data, you have to follow these steps:\n",
        "1. Extract the image and ground truth keypoints from a sample\n",
        "2. Make sure the image is a FloatTensor, which the model expects.\n",
        "3. Forward pass the image through the net to get the predicted, output keypoints.\n",
        "\n",
        "This function test how the network performs on the first batch of test data. It returns the images, the transformed images, the predicted keypoints (produced by the model), and the ground truth keypoints."
      ]
    },
    {
      "metadata": {
        "id": "TZ-R80hkFX1s",
        "colab_type": "code",
        "colab": {}
      },
      "cell_type": "code",
      "source": [
        "# test the model on a batch of test images\n",
        "\n",
        "def net_sample_output():\n",
        "    \n",
        "    # iterate through the test dataset\n",
        "    for i, sample in enumerate(test_loader):\n",
        "        \n",
        "        # get sample data: images and ground truth keypoints\n",
        "        images = sample['image']\n",
        "        key_pts = sample['keypoints']\n",
        "\n",
        "        # convert images to FloatTensors\n",
        "        images = images.type(torch.FloatTensor)\n",
        "\n",
        "        # forward pass to get net output\n",
        "        output_pts = net(images)\n",
        "        \n",
        "        # reshape to batch_size x 68 x 2 pts\n",
        "        output_pts = output_pts.view(output_pts.size()[0], 68, -1)\n",
        "        \n",
        "        # break after first image is tested\n",
        "        if i == 0:\n",
        "            return images, output_pts, key_pts\n",
        "            "
      ],
      "execution_count": 0,
      "outputs": []
    },
    {
      "metadata": {
        "id": "sT8e35huFX1x",
        "colab_type": "text"
      },
      "cell_type": "markdown",
      "source": [
        "#### Debugging tips\n",
        "\n",
        "If you get a size or dimension error here, make sure that your network outputs the expected number of keypoints! Or if you get a Tensor type error, look into changing the above code that casts the data into float types: `images = images.type(torch.FloatTensor)`."
      ]
    },
    {
      "metadata": {
        "id": "ES1aNSyKFX1y",
        "colab_type": "code",
        "colab": {
          "base_uri": "https://localhost:8080/",
          "height": 68
        },
        "outputId": "5f5beb01-8eaf-4cf0-b9c8-818f39c69bd9"
      },
      "cell_type": "code",
      "source": [
        "# call the above function\n",
        "# returns: test images, test predicted keypoints, test ground truth keypoints\n",
        "test_images, test_outputs, gt_pts = net_sample_output()\n",
        "\n",
        "# print out the dimensions of the data to see if they make sense\n",
        "print(test_images.data.size())\n",
        "print(test_outputs.data.size())\n",
        "print(gt_pts.size())"
      ],
      "execution_count": 17,
      "outputs": [
        {
          "output_type": "stream",
          "text": [
            "torch.Size([10, 1, 224, 224])\n",
            "torch.Size([10, 68, 2])\n",
            "torch.Size([10, 68, 2])\n"
          ],
          "name": "stdout"
        }
      ]
    },
    {
      "metadata": {
        "id": "06R58SDzFX12",
        "colab_type": "text"
      },
      "cell_type": "markdown",
      "source": [
        "## Visualize the predicted keypoints\n",
        "\n",
        "Once we've had the model produce some predicted output keypoints, we can visualize these points in a way that's similar to how we've displayed this data before, only this time, we have to \"un-transform\" the image/keypoint data to display it.\n",
        "\n",
        "Note that I've defined a *new* function, `show_all_keypoints` that displays a grayscale image, its predicted keypoints and its ground truth keypoints (if provided)."
      ]
    },
    {
      "metadata": {
        "id": "FjadPJvbFX13",
        "colab_type": "code",
        "colab": {}
      },
      "cell_type": "code",
      "source": [
        "def show_all_keypoints(image, predicted_key_pts, gt_pts=None):\n",
        "    \"\"\"Show image with predicted keypoints\"\"\"\n",
        "    # image is grayscale\n",
        "    plt.imshow(image, cmap='gray')\n",
        "    plt.scatter(predicted_key_pts[:, 0], predicted_key_pts[:, 1], s=20, marker='.', c='m')\n",
        "    # plot ground truth points as green pts\n",
        "    if gt_pts is not None:\n",
        "        plt.scatter(gt_pts[:, 0], gt_pts[:, 1], s=20, marker='.', c='g')\n"
      ],
      "execution_count": 0,
      "outputs": []
    },
    {
      "metadata": {
        "id": "RK_CVRc6FX18",
        "colab_type": "text"
      },
      "cell_type": "markdown",
      "source": [
        "#### Un-transformation\n",
        "\n",
        "Next, you'll see a helper function. `visualize_output` that takes in a batch of images, predicted keypoints, and ground truth keypoints and displays a set of those images and their true/predicted keypoints.\n",
        "\n",
        "This function's main role is to take batches of image and keypoint data (the input and output of your CNN), and transform them into numpy images and un-normalized keypoints (x, y) for normal display. The un-transformation process turns keypoints and images into numpy arrays from Tensors *and* it undoes the keypoint normalization done in the Normalize() transform; it's assumed that you applied these transformations when you loaded your test data."
      ]
    },
    {
      "metadata": {
        "id": "dSfJ_CMqFX19",
        "colab_type": "code",
        "colab": {
          "base_uri": "https://localhost:8080/",
          "height": 1267
        },
        "outputId": "cf4b1ac3-db9e-4f01-af0f-7c1818f005a1"
      },
      "cell_type": "code",
      "source": [
        "# visualize the output\n",
        "# by default this shows a batch of 10 images\n",
        "def visualize_output(test_images, test_outputs, gt_pts=None, batch_size=10):\n",
        "\n",
        "    for i in range(batch_size):\n",
        "        plt.figure(figsize=(20,10))\n",
        "        ax = plt.subplot(1, batch_size, i+1)\n",
        "\n",
        "        # un-transform the image data\n",
        "        image = test_images[i].data   # get the image from it's wrapper\n",
        "        image = image.numpy()   # convert to numpy array from a Tensor\n",
        "        image = np.transpose(image, (1, 2, 0))   # transpose to go from torch to numpy image\n",
        "\n",
        "        # un-transform the predicted key_pts data\n",
        "        predicted_key_pts = test_outputs[i].data\n",
        "        predicted_key_pts = predicted_key_pts.numpy()\n",
        "        # undo normalization of keypoints  \n",
        "        predicted_key_pts = predicted_key_pts*50.0+100\n",
        "        \n",
        "        # plot ground truth points for comparison, if they exist\n",
        "        ground_truth_pts = None\n",
        "        if gt_pts is not None:\n",
        "            ground_truth_pts = gt_pts[i]         \n",
        "            ground_truth_pts = ground_truth_pts*50.0+100\n",
        "        \n",
        "        # call show_all_keypoints\n",
        "        show_all_keypoints(np.squeeze(image), predicted_key_pts, ground_truth_pts)\n",
        "            \n",
        "        plt.axis('off')\n",
        "\n",
        "    plt.show()\n",
        "    \n",
        "# call it\n",
        "visualize_output(test_images, test_outputs, gt_pts)"
      ],
      "execution_count": 19,
      "outputs": [
        {
          "output_type": "display_data",
          "data": {
            "image/png": "[encoded data removed]",
            "text/plain": [
              "<matplotlib.figure.Figure at 0x7f06963b4e50>"
            ]
          },
          "metadata": {
            "tags": []
          }
        },
        {
          "output_type": "display_data",
          "data": {
            "image/png": "[encoded data removed]",
            "text/plain": [
              "<matplotlib.figure.Figure at 0x7f0694b91e90>"
            ]
          },
          "metadata": {
            "tags": []
          }
        },
        {
          "output_type": "display_data",
          "data": {
            "image/png": "[encoded data removed]",
            "text/plain": [
              "<matplotlib.figure.Figure at 0x7f0696425110>"
            ]
          },
          "metadata": {
            "tags": []
          }
        },
        {
          "output_type": "display_data",
          "data": {
            "image/png": "[encoded data removed]",
            "text/plain": [
              "<matplotlib.figure.Figure at 0x7f0692acfc50>"
            ]
          },
          "metadata": {
            "tags": []
          }
        },
        {
          "output_type": "display_data",
          "data": {
            "image/png": "[encoded data removed]",
            "text/plain": [
              "<matplotlib.figure.Figure at 0x7f0692aa7e10>"
            ]
          },
          "metadata": {
            "tags": []
          }
        },
        {
          "output_type": "display_data",
          "data": {
            "image/png": "[encoded data removed]",
            "text/plain": [
              "<matplotlib.figure.Figure at 0x7f06929fea50>"
            ]
          },
          "metadata": {
            "tags": []
          }
        },
        {
          "output_type": "display_data",
          "data": {
            "image/png": "[encoded data removed]",
            "text/plain": [
              "<matplotlib.figure.Figure at 0x7f0692ae5bd0>"
            ]
          },
          "metadata": {
            "tags": []
          }
        },
        {
          "output_type": "display_data",
          "data": {
            "image/png": "[encoded data removed]",
            "text/plain": [
              "<matplotlib.figure.Figure at 0x7f06929dec90>"
            ]
          },
          "metadata": {
            "tags": []
          }
        },
        {
          "output_type": "display_data",
          "data": {
            "image/png": "[encoded data removed]",
            "text/plain": [
              "<matplotlib.figure.Figure at 0x7f0692993950>"
            ]
          },
          "metadata": {
            "tags": []
          }
        },
        {
          "output_type": "display_data",
          "data": {
            "image/png": "[encoded data removed]",
            "text/plain": [
              "<matplotlib.figure.Figure at 0x7f069296c990>"
            ]
          },
          "metadata": {
            "tags": []
          }
        }
      ]
    },
    {
      "metadata": {
        "id": "3iO0k90FFX2B",
        "colab_type": "text"
      },
      "cell_type": "markdown",
      "source": [
        "## Training\n",
        "\n",
        "#### Loss function\n",
        "Training a network to predict keypoints is different than training a network to predict a class; instead of outputting a distribution of classes and using cross entropy loss, you may want to choose a loss function that is suited for regression, which directly compares a predicted value and target value. Read about the various kinds of loss functions (like MSE or L1/SmoothL1 loss) in [this documentation](http://pytorch.org/docs/master/_modules/torch/nn/modules/loss.html).\n",
        "\n",
        "### TODO: Define the loss and optimization\n",
        "\n",
        "Next, you'll define how the model will train by deciding on the loss function and optimizer.\n",
        "\n",
        "---"
      ]
    },
    {
      "metadata": {
        "id": "8QHJTOaBFX2D",
        "colab_type": "code",
        "colab": {}
      },
      "cell_type": "code",
      "source": [
        "## TODO: Define the loss and optimization\n",
        "import torch.optim as optim\n",
        "\n",
        "criterion = nn.SmoothL1Loss()\n",
        "\n",
        "optimizer = optim.RMSprop(net.parameters(), lr=0.01, momentum=0.9)\n"
      ],
      "execution_count": 0,
      "outputs": []
    },
    {
      "metadata": {
        "id": "da49z010FX2H",
        "colab_type": "text"
      },
      "cell_type": "markdown",
      "source": [
        "## Training and Initial Observation\n",
        "\n",
        "Now, you'll train on your batched training data from `train_loader` for a number of epochs. \n",
        "\n",
        "To quickly observe how your model is training and decide on whether or not you should modify it's structure or hyperparameters, you're encouraged to start off with just one or two epochs at first. As you train, note how your the model's loss behaves over time: does it decrease quickly at first and then slow down? Does it take a while to decrease in the first place? What happens if you change the batch size of your training data or modify your loss function? etc. \n",
        "\n",
        "Use these initial observations to make changes to your model and decide on the best architecture before you train for many epochs and create a final model."
      ]
    },
    {
      "metadata": {
        "id": "yryKxFVAFX2J",
        "colab_type": "code",
        "colab": {}
      },
      "cell_type": "code",
      "source": [
        "def train_net(n_epochs):\n",
        "\n",
        "    # prepare the net for training\n",
        "    net.train()\n",
        "\n",
        "    for epoch in range(n_epochs):  # loop over the dataset multiple times\n",
        "        \n",
        "        running_loss = 0.0\n",
        "\n",
        "        # train on batches of data, assumes you already have train_loader\n",
        "        for batch_i, data in enumerate(train_loader):\n",
        "            # get the input images and their corresponding labels\n",
        "            images = data['image']\n",
        "            key_pts = data['keypoints']\n",
        "\n",
        "            # flatten pts\n",
        "            key_pts = key_pts.view(key_pts.size(0), -1)\n",
        "\n",
        "            # convert variables to floats for regression loss\n",
        "            key_pts = key_pts.type(torch.FloatTensor)\n",
        "            images = images.type(torch.FloatTensor)\n",
        "\n",
        "            # forward pass to get outputs\n",
        "            output_pts = net(images)\n",
        "\n",
        "            # calculate the loss between predicted and target keypoints\n",
        "            loss = criterion(output_pts, key_pts)\n",
        "\n",
        "            # zero the parameter (weight) gradients\n",
        "            optimizer.zero_grad()\n",
        "            \n",
        "            # backward pass to calculate the weight gradients\n",
        "            loss.backward()\n",
        "\n",
        "            # update the weights\n",
        "            optimizer.step()\n",
        "\n",
        "            # print loss statistics\n",
        "            # to convert loss into a scalar and add it to the running_loss, use .item()\n",
        "            running_loss += loss.item()\n",
        "            if batch_i % 10 == 9:    # print every 10 batches\n",
        "                print('Epoch: {}, Batch: {}, Avg. Loss: {}'.format(epoch + 1, batch_i+1, running_loss/1000))\n",
        "                running_loss = 0.0\n",
        "\n",
        "    print('Finished Training')\n"
      ],
      "execution_count": 0,
      "outputs": []
    },
    {
      "metadata": {
        "id": "v2zzVHRAFX2O",
        "colab_type": "code",
        "colab": {
          "base_uri": "https://localhost:8080/",
          "height": 4209
        },
        "outputId": "45e26b62-d877-4099-bb98-45f6b0df5b58"
      },
      "cell_type": "code",
      "source": [
        "# train your network\n",
        "n_epochs = 10 # start small, and increase when you've decided on your model structure and hyperparams\n",
        "\n",
        "train_net(n_epochs)"
      ],
      "execution_count": 24,
      "outputs": [
        {
          "output_type": "stream",
          "text": [
            "Epoch: 1, Batch: 10, Avg. Loss: 0.0369730222225\n",
            "Epoch: 1, Batch: 20, Avg. Loss: 0.0385020644665\n",
            "Epoch: 1, Batch: 30, Avg. Loss: 0.0386486487389\n",
            "Epoch: 1, Batch: 40, Avg. Loss: 0.0377030897141\n",
            "Epoch: 1, Batch: 50, Avg. Loss: 0.0376957774162\n",
            "Epoch: 1, Batch: 60, Avg. Loss: 0.0371758823395\n",
            "Epoch: 1, Batch: 70, Avg. Loss: 0.0381194350719\n",
            "Epoch: 1, Batch: 80, Avg. Loss: 0.0368350782394\n",
            "Epoch: 1, Batch: 90, Avg. Loss: 0.0359627952576\n",
            "Epoch: 1, Batch: 100, Avg. Loss: 0.0378082644939\n",
            "Epoch: 1, Batch: 110, Avg. Loss: 0.038245085001\n",
            "Epoch: 1, Batch: 120, Avg. Loss: 0.037977212429\n",
            "Epoch: 1, Batch: 130, Avg. Loss: 0.0379100954533\n",
            "Epoch: 1, Batch: 140, Avg. Loss: 0.0385148448944\n",
            "Epoch: 1, Batch: 150, Avg. Loss: 0.0380880653858\n",
            "Epoch: 1, Batch: 160, Avg. Loss: 0.0364758563042\n",
            "Epoch: 1, Batch: 170, Avg. Loss: 0.0378500783443\n",
            "Epoch: 1, Batch: 180, Avg. Loss: 0.0379578957558\n",
            "Epoch: 1, Batch: 190, Avg. Loss: 0.0382863941193\n",
            "Epoch: 1, Batch: 200, Avg. Loss: 0.0367280979156\n",
            "Epoch: 1, Batch: 210, Avg. Loss: 0.0380089554787\n",
            "Epoch: 1, Batch: 220, Avg. Loss: 0.0389061992168\n",
            "Epoch: 1, Batch: 230, Avg. Loss: 0.037059088707\n",
            "Epoch: 1, Batch: 240, Avg. Loss: 0.0379536631107\n",
            "Epoch: 1, Batch: 250, Avg. Loss: 0.0388979225159\n",
            "Epoch: 1, Batch: 260, Avg. Loss: 0.0374707243443\n",
            "Epoch: 1, Batch: 270, Avg. Loss: 0.0384151172638\n",
            "Epoch: 1, Batch: 280, Avg. Loss: 0.0380133354664\n",
            "Epoch: 1, Batch: 290, Avg. Loss: 0.0364133515358\n",
            "Epoch: 1, Batch: 300, Avg. Loss: 0.0366766753197\n",
            "Epoch: 1, Batch: 310, Avg. Loss: 0.0372233536243\n",
            "Epoch: 1, Batch: 320, Avg. Loss: 0.0379776296616\n",
            "Epoch: 1, Batch: 330, Avg. Loss: 0.0375713319778\n",
            "Epoch: 1, Batch: 340, Avg. Loss: 0.0381731214523\n",
            "Epoch: 2, Batch: 10, Avg. Loss: 0.0351224761009\n",
            "Epoch: 2, Batch: 20, Avg. Loss: 0.0375433962345\n",
            "Epoch: 2, Batch: 30, Avg. Loss: 0.038199696064\n",
            "Epoch: 2, Batch: 40, Avg. Loss: 0.0365778646469\n",
            "Epoch: 2, Batch: 50, Avg. Loss: 0.0372745156288\n",
            "Epoch: 2, Batch: 60, Avg. Loss: 0.0379939246178\n",
            "Epoch: 2, Batch: 70, Avg. Loss: 0.0365533051491\n",
            "Epoch: 2, Batch: 80, Avg. Loss: 0.0372925562859\n",
            "Epoch: 2, Batch: 90, Avg. Loss: 0.0386731648445\n",
            "Epoch: 2, Batch: 100, Avg. Loss: 0.0371020355225\n",
            "Epoch: 2, Batch: 110, Avg. Loss: 0.0368071920872\n",
            "Epoch: 2, Batch: 120, Avg. Loss: 0.0375121052265\n",
            "Epoch: 2, Batch: 130, Avg. Loss: 0.0397375159264\n",
            "Epoch: 2, Batch: 140, Avg. Loss: 0.0381350073814\n",
            "Epoch: 2, Batch: 150, Avg. Loss: 0.0377185356617\n",
            "Epoch: 2, Batch: 160, Avg. Loss: 0.038432528019\n",
            "Epoch: 2, Batch: 170, Avg. Loss: 0.0372434294224\n",
            "Epoch: 2, Batch: 180, Avg. Loss: 0.0381759259701\n",
            "Epoch: 2, Batch: 190, Avg. Loss: 0.0362756624222\n",
            "Epoch: 2, Batch: 200, Avg. Loss: 0.0376480927467\n",
            "Epoch: 2, Batch: 210, Avg. Loss: 0.0373592398167\n",
            "Epoch: 2, Batch: 220, Avg. Loss: 0.0385603761673\n",
            "Epoch: 2, Batch: 230, Avg. Loss: 0.0373501064777\n",
            "Epoch: 2, Batch: 240, Avg. Loss: 0.0367308952808\n",
            "Epoch: 2, Batch: 250, Avg. Loss: 0.0383863563538\n",
            "Epoch: 2, Batch: 260, Avg. Loss: 0.0384341795444\n",
            "Epoch: 2, Batch: 270, Avg. Loss: 0.038230789423\n",
            "Epoch: 2, Batch: 280, Avg. Loss: 0.0381370973587\n",
            "Epoch: 2, Batch: 290, Avg. Loss: 0.0378578650951\n",
            "Epoch: 2, Batch: 300, Avg. Loss: 0.0381604866982\n",
            "Epoch: 2, Batch: 310, Avg. Loss: 0.0377205672264\n",
            "Epoch: 2, Batch: 320, Avg. Loss: 0.0376769123077\n",
            "Epoch: 2, Batch: 330, Avg. Loss: 0.0390281260014\n",
            "Epoch: 2, Batch: 340, Avg. Loss: 0.0363151812553\n",
            "Epoch: 3, Batch: 10, Avg. Loss: 0.0377551066875\n",
            "Epoch: 3, Batch: 20, Avg. Loss: 0.0372049260139\n",
            "Epoch: 3, Batch: 30, Avg. Loss: 0.0380853874683\n",
            "Epoch: 3, Batch: 40, Avg. Loss: 0.0380164215565\n",
            "Epoch: 3, Batch: 50, Avg. Loss: 0.0370534460545\n",
            "Epoch: 3, Batch: 60, Avg. Loss: 0.038081166029\n",
            "Epoch: 3, Batch: 70, Avg. Loss: 0.0366357264519\n",
            "Epoch: 3, Batch: 80, Avg. Loss: 0.03918009305\n",
            "Epoch: 3, Batch: 90, Avg. Loss: 0.036387909174\n",
            "Epoch: 3, Batch: 100, Avg. Loss: 0.0380859475136\n",
            "Epoch: 3, Batch: 110, Avg. Loss: 0.0375814480782\n",
            "Epoch: 3, Batch: 120, Avg. Loss: 0.0362951169014\n",
            "Epoch: 3, Batch: 130, Avg. Loss: 0.0391620633602\n",
            "Epoch: 3, Batch: 140, Avg. Loss: 0.0372231194973\n",
            "Epoch: 3, Batch: 150, Avg. Loss: 4772.10422749\n",
            "Epoch: 3, Batch: 160, Avg. Loss: 0.037490190506\n",
            "Epoch: 3, Batch: 170, Avg. Loss: 0.0378928735256\n",
            "Epoch: 3, Batch: 180, Avg. Loss: 0.0370225682259\n",
            "Epoch: 3, Batch: 190, Avg. Loss: 0.0368038845062\n",
            "Epoch: 3, Batch: 200, Avg. Loss: 0.0382178723812\n",
            "Epoch: 3, Batch: 210, Avg. Loss: 0.0365638101101\n",
            "Epoch: 3, Batch: 220, Avg. Loss: 0.037736218214\n",
            "Epoch: 3, Batch: 230, Avg. Loss: 0.0384906485081\n",
            "Epoch: 3, Batch: 240, Avg. Loss: 0.0372572426796\n",
            "Epoch: 3, Batch: 250, Avg. Loss: 0.03768196702\n",
            "Epoch: 3, Batch: 260, Avg. Loss: 0.039015702486\n",
            "Epoch: 3, Batch: 270, Avg. Loss: 0.0375286784172\n",
            "Epoch: 3, Batch: 280, Avg. Loss: 0.0384953231812\n",
            "Epoch: 3, Batch: 290, Avg. Loss: 0.0362951264381\n",
            "Epoch: 3, Batch: 300, Avg. Loss: 0.0371033725739\n",
            "Epoch: 3, Batch: 310, Avg. Loss: 0.0383455505371\n",
            "Epoch: 3, Batch: 320, Avg. Loss: 0.0388406043053\n",
            "Epoch: 3, Batch: 330, Avg. Loss: 0.0383467371464\n",
            "Epoch: 3, Batch: 340, Avg. Loss: 0.0366127676964\n",
            "Epoch: 4, Batch: 10, Avg. Loss: 0.0373930985928\n",
            "Epoch: 4, Batch: 20, Avg. Loss: 0.0382160942554\n",
            "Epoch: 4, Batch: 30, Avg. Loss: 0.0372998168468\n",
            "Epoch: 4, Batch: 40, Avg. Loss: 0.0365649323463\n",
            "Epoch: 4, Batch: 50, Avg. Loss: 0.0377358524799\n",
            "Epoch: 4, Batch: 60, Avg. Loss: 0.0386558330059\n",
            "Epoch: 4, Batch: 70, Avg. Loss: 0.0361885457039\n",
            "Epoch: 4, Batch: 80, Avg. Loss: 0.0373366951942\n",
            "Epoch: 4, Batch: 90, Avg. Loss: 0.0374918868542\n",
            "Epoch: 4, Batch: 100, Avg. Loss: 61551.5177201\n",
            "Epoch: 4, Batch: 110, Avg. Loss: 0.0367288172245\n",
            "Epoch: 4, Batch: 120, Avg. Loss: 0.0385078949928\n",
            "Epoch: 4, Batch: 130, Avg. Loss: 0.0365993430614\n",
            "Epoch: 4, Batch: 140, Avg. Loss: 0.038064031601\n",
            "Epoch: 4, Batch: 150, Avg. Loss: 0.0373948674202\n",
            "Epoch: 4, Batch: 160, Avg. Loss: 0.0385524568558\n",
            "Epoch: 4, Batch: 170, Avg. Loss: 0.0394130246639\n",
            "Epoch: 4, Batch: 180, Avg. Loss: 0.0366031162739\n",
            "Epoch: 4, Batch: 190, Avg. Loss: 0.0381573896408\n",
            "Epoch: 4, Batch: 200, Avg. Loss: 0.0378323493004\n",
            "Epoch: 4, Batch: 210, Avg. Loss: 0.0375102546215\n",
            "Epoch: 4, Batch: 220, Avg. Loss: 0.0389024651051\n",
            "Epoch: 4, Batch: 230, Avg. Loss: 0.0380114376545\n",
            "Epoch: 4, Batch: 240, Avg. Loss: 0.038460814476\n",
            "Epoch: 4, Batch: 250, Avg. Loss: 0.0382790393829\n",
            "Epoch: 4, Batch: 260, Avg. Loss: 0.0372836334705\n",
            "Epoch: 4, Batch: 270, Avg. Loss: 0.0385565438271\n",
            "Epoch: 4, Batch: 280, Avg. Loss: 0.0387977101803\n",
            "Epoch: 4, Batch: 290, Avg. Loss: 0.0373879351616\n",
            "Epoch: 4, Batch: 300, Avg. Loss: 0.0362945895195\n",
            "Epoch: 4, Batch: 310, Avg. Loss: 0.0380526902676\n",
            "Epoch: 4, Batch: 320, Avg. Loss: 0.0397748653889\n",
            "Epoch: 4, Batch: 330, Avg. Loss: 0.0364945747852\n",
            "Epoch: 4, Batch: 340, Avg. Loss: 0.0368806858063\n",
            "Epoch: 5, Batch: 10, Avg. Loss: 0.0382028837204\n",
            "Epoch: 5, Batch: 20, Avg. Loss: 0.0376738054752\n",
            "Epoch: 5, Batch: 30, Avg. Loss: 0.0386301455498\n",
            "Epoch: 5, Batch: 40, Avg. Loss: 0.0360952186584\n",
            "Epoch: 5, Batch: 50, Avg. Loss: 0.0380077946186\n",
            "Epoch: 5, Batch: 60, Avg. Loss: 0.0364063572884\n",
            "Epoch: 5, Batch: 70, Avg. Loss: 0.0375810620785\n",
            "Epoch: 5, Batch: 80, Avg. Loss: 0.0378409519196\n",
            "Epoch: 5, Batch: 90, Avg. Loss: 0.0382641661167\n",
            "Epoch: 5, Batch: 100, Avg. Loss: 0.0358813610077\n",
            "Epoch: 5, Batch: 110, Avg. Loss: 0.0367025749683\n",
            "Epoch: 5, Batch: 120, Avg. Loss: 0.0380243396759\n",
            "Epoch: 5, Batch: 130, Avg. Loss: 0.0381023404598\n",
            "Epoch: 5, Batch: 140, Avg. Loss: 0.0389582736492\n",
            "Epoch: 5, Batch: 150, Avg. Loss: 0.0381561460495\n",
            "Epoch: 5, Batch: 160, Avg. Loss: 0.0379977641106\n",
            "Epoch: 5, Batch: 170, Avg. Loss: 0.0367596540451\n",
            "Epoch: 5, Batch: 180, Avg. Loss: 0.036694832325\n",
            "Epoch: 5, Batch: 190, Avg. Loss: 0.0390374610424\n",
            "Epoch: 5, Batch: 200, Avg. Loss: 0.0381418709755\n",
            "Epoch: 5, Batch: 210, Avg. Loss: 0.0379343652725\n",
            "Epoch: 5, Batch: 220, Avg. Loss: 0.03734202075\n",
            "Epoch: 5, Batch: 230, Avg. Loss: 0.0381745870113\n",
            "Epoch: 5, Batch: 240, Avg. Loss: 0.0371243548393\n",
            "Epoch: 5, Batch: 250, Avg. Loss: 0.0383669252396\n",
            "Epoch: 5, Batch: 260, Avg. Loss: 0.0384994335175\n",
            "Epoch: 5, Batch: 270, Avg. Loss: 0.0357487425804\n",
            "Epoch: 5, Batch: 280, Avg. Loss: 0.0373459346294\n",
            "Epoch: 5, Batch: 290, Avg. Loss: 0.0375492622852\n",
            "Epoch: 5, Batch: 300, Avg. Loss: 0.0374449646473\n",
            "Epoch: 5, Batch: 310, Avg. Loss: 0.0370139670372\n",
            "Epoch: 5, Batch: 320, Avg. Loss: 0.0386692333221\n",
            "Epoch: 5, Batch: 330, Avg. Loss: 0.0372407493591\n",
            "Epoch: 5, Batch: 340, Avg. Loss: 0.0378310568333\n",
            "Epoch: 6, Batch: 10, Avg. Loss: 0.0380025396347\n"
          ],
          "name": "stdout"
        },
        {
          "output_type": "stream",
          "text": [
            "Process Process-29:\n",
            "Process Process-32:\n",
            "Process Process-30:\n",
            "Traceback (most recent call last):\n",
            "Traceback (most recent call last):\n",
            "Process Process-31:\n",
            "  File \"/usr/lib/python2.7/multiprocessing/process.py\", line 267, in _bootstrap\n",
            "  File \"/usr/lib/python2.7/multiprocessing/process.py\", line 267, in _bootstrap\n",
            "Traceback (most recent call last):\n",
            "Traceback (most recent call last):\n",
            "    self.run()\n",
            "    self.run()\n",
            "  File \"/usr/lib/python2.7/multiprocessing/process.py\", line 267, in _bootstrap\n",
            "  File \"/usr/lib/python2.7/multiprocessing/process.py\", line 267, in _bootstrap\n",
            "  File \"/usr/lib/python2.7/multiprocessing/process.py\", line 114, in run\n",
            "    self.run()\n",
            "  File \"/usr/lib/python2.7/multiprocessing/process.py\", line 114, in run\n",
            "    self.run()\n",
            "    self._target(*self._args, **self._kwargs)\n",
            "  File \"/usr/lib/python2.7/multiprocessing/process.py\", line 114, in run\n",
            "    self._target(*self._args, **self._kwargs)\n",
            "  File \"/usr/lib/python2.7/multiprocessing/process.py\", line 114, in run\n",
            "    self._target(*self._args, **self._kwargs)\n",
            "  File \"/usr/local/lib/python2.7/dist-packages/torch/utils/data/dataloader.py\", line 96, in _worker_loop\n",
            "    self._target(*self._args, **self._kwargs)\n",
            "  File \"/usr/local/lib/python2.7/dist-packages/torch/utils/data/dataloader.py\", line 96, in _worker_loop\n",
            "  File \"/usr/local/lib/python2.7/dist-packages/torch/utils/data/dataloader.py\", line 96, in _worker_loop\n",
            "    r = index_queue.get(timeout=MANAGER_STATUS_CHECK_INTERVAL)\n",
            "  File \"/usr/local/lib/python2.7/dist-packages/torch/utils/data/dataloader.py\", line 96, in _worker_loop\n",
            "    r = index_queue.get(timeout=MANAGER_STATUS_CHECK_INTERVAL)\n",
            "    r = index_queue.get(timeout=MANAGER_STATUS_CHECK_INTERVAL)\n",
            "  File \"/usr/lib/python2.7/multiprocessing/queues.py\", line 131, in get\n",
            "    r = index_queue.get(timeout=MANAGER_STATUS_CHECK_INTERVAL)\n",
            "  File \"/usr/lib/python2.7/multiprocessing/queues.py\", line 131, in get\n",
            "  File \"/usr/lib/python2.7/multiprocessing/queues.py\", line 131, in get\n",
            "  File \"/usr/lib/python2.7/multiprocessing/queues.py\", line 131, in get\n",
            "    if not self._poll(timeout):\n",
            "    if not self._poll(timeout):\n",
            "    if not self._poll(timeout):\n",
            "KeyboardInterrupt\n",
            "    if not self._poll(timeout):\n",
            "KeyboardInterrupt\n",
            "KeyboardInterrupt\n",
            "KeyboardInterrupt\n"
          ],
          "name": "stderr"
        },
        {
          "output_type": "error",
          "ename": "KeyboardInterrupt",
          "evalue": "ignored",
          "traceback": [
            "\u001b[0;31m\u001b[0m",
            "\u001b[0;31mKeyboardInterrupt\u001b[0mTraceback (most recent call last)",
            "\u001b[0;32m<ipython-input-24-519a3ba7f00a>\u001b[0m in \u001b[0;36m<module>\u001b[0;34m()\u001b[0m\n\u001b[1;32m      1\u001b[0m \u001b[0mn_epochs\u001b[0m \u001b[0;34m=\u001b[0m \u001b[0;36m10\u001b[0m \u001b[0;31m# start small, and increase when you've decided on your model structure and hyperparams\u001b[0m\u001b[0;34m\u001b[0m\u001b[0m\n\u001b[1;32m      2\u001b[0m \u001b[0;34m\u001b[0m\u001b[0m\n\u001b[0;32m----> 3\u001b[0;31m \u001b[0mtrain_net\u001b[0m\u001b[0;34m(\u001b[0m\u001b[0mn_epochs\u001b[0m\u001b[0;34m)\u001b[0m\u001b[0;34m\u001b[0m\u001b[0m\n\u001b[0m",
            "\u001b[0;32m<ipython-input-22-3b9229ff3bb6>\u001b[0m in \u001b[0;36mtrain_net\u001b[0;34m(n_epochs)\u001b[0m\n\u001b[1;32m     31\u001b[0m \u001b[0;34m\u001b[0m\u001b[0m\n\u001b[1;32m     32\u001b[0m             \u001b[0;31m# backward pass to calculate the weight gradients\u001b[0m\u001b[0;34m\u001b[0m\u001b[0;34m\u001b[0m\u001b[0m\n\u001b[0;32m---> 33\u001b[0;31m             \u001b[0mloss\u001b[0m\u001b[0;34m.\u001b[0m\u001b[0mbackward\u001b[0m\u001b[0;34m(\u001b[0m\u001b[0;34m)\u001b[0m\u001b[0;34m\u001b[0m\u001b[0m\n\u001b[0m\u001b[1;32m     34\u001b[0m \u001b[0;34m\u001b[0m\u001b[0m\n\u001b[1;32m     35\u001b[0m             \u001b[0;31m# update the weights\u001b[0m\u001b[0;34m\u001b[0m\u001b[0;34m\u001b[0m\u001b[0m\n",
            "\u001b[0;32m/usr/local/lib/python2.7/dist-packages/torch/tensor.pyc\u001b[0m in \u001b[0;36mbackward\u001b[0;34m(self, gradient, retain_graph, create_graph)\u001b[0m\n\u001b[1;32m     91\u001b[0m                 \u001b[0mproducts\u001b[0m\u001b[0;34m.\u001b[0m \u001b[0mDefaults\u001b[0m \u001b[0mto\u001b[0m \u001b[0;34m`\u001b[0m\u001b[0;34m`\u001b[0m\u001b[0mFalse\u001b[0m\u001b[0;34m`\u001b[0m\u001b[0;34m`\u001b[0m\u001b[0;34m.\u001b[0m\u001b[0;34m\u001b[0m\u001b[0m\n\u001b[1;32m     92\u001b[0m         \"\"\"\n\u001b[0;32m---> 93\u001b[0;31m         \u001b[0mtorch\u001b[0m\u001b[0;34m.\u001b[0m\u001b[0mautograd\u001b[0m\u001b[0;34m.\u001b[0m\u001b[0mbackward\u001b[0m\u001b[0;34m(\u001b[0m\u001b[0mself\u001b[0m\u001b[0;34m,\u001b[0m \u001b[0mgradient\u001b[0m\u001b[0;34m,\u001b[0m \u001b[0mretain_graph\u001b[0m\u001b[0;34m,\u001b[0m \u001b[0mcreate_graph\u001b[0m\u001b[0;34m)\u001b[0m\u001b[0;34m\u001b[0m\u001b[0m\n\u001b[0m\u001b[1;32m     94\u001b[0m \u001b[0;34m\u001b[0m\u001b[0m\n\u001b[1;32m     95\u001b[0m     \u001b[0;32mdef\u001b[0m \u001b[0mregister_hook\u001b[0m\u001b[0;34m(\u001b[0m\u001b[0mself\u001b[0m\u001b[0;34m,\u001b[0m \u001b[0mhook\u001b[0m\u001b[0;34m)\u001b[0m\u001b[0;34m:\u001b[0m\u001b[0;34m\u001b[0m\u001b[0m\n",
            "\u001b[0;32m/usr/local/lib/python2.7/dist-packages/torch/autograd/__init__.pyc\u001b[0m in \u001b[0;36mbackward\u001b[0;34m(tensors, grad_tensors, retain_graph, create_graph, grad_variables)\u001b[0m\n\u001b[1;32m     88\u001b[0m     Variable._execution_engine.run_backward(\n\u001b[1;32m     89\u001b[0m         \u001b[0mtensors\u001b[0m\u001b[0;34m,\u001b[0m \u001b[0mgrad_tensors\u001b[0m\u001b[0;34m,\u001b[0m \u001b[0mretain_graph\u001b[0m\u001b[0;34m,\u001b[0m \u001b[0mcreate_graph\u001b[0m\u001b[0;34m,\u001b[0m\u001b[0;34m\u001b[0m\u001b[0m\n\u001b[0;32m---> 90\u001b[0;31m         allow_unreachable=True)  # allow_unreachable flag\n\u001b[0m\u001b[1;32m     91\u001b[0m \u001b[0;34m\u001b[0m\u001b[0m\n\u001b[1;32m     92\u001b[0m \u001b[0;34m\u001b[0m\u001b[0m\n",
            "\u001b[0;31mKeyboardInterrupt\u001b[0m: "
          ]
        }
      ]
    },
    {
      "metadata": {
        "id": "DiDxy2eBFX2V",
        "colab_type": "text"
      },
      "cell_type": "markdown",
      "source": [
        "## Test data\n",
        "\n",
        "See how your model performs on previously unseen, test data. We've already loaded and transformed this data, similar to the training data. Next, run your trained model on these images to see what kind of keypoints are produced. You should be able to see if your model is fitting each new face it sees, if the points are distributed randomly, or if the points have actually overfitted the training data and do not generalize."
      ]
    },
    {
      "metadata": {
        "id": "VGGVTp7vFX2W",
        "colab_type": "code",
        "colab": {
          "base_uri": "https://localhost:8080/",
          "height": 68
        },
        "outputId": "6afcd84d-4d07-4d81-9041-025ad6457749"
      },
      "cell_type": "code",
      "source": [
        "# get a sample of test data again\n",
        "test_images, test_outputs, gt_pts = net_sample_output()\n",
        "\n",
        "print(test_images.data.size())\n",
        "print(test_outputs.data.size())\n",
        "print(gt_pts.size())"
      ],
      "execution_count": 25,
      "outputs": [
        {
          "output_type": "stream",
          "text": [
            "torch.Size([10, 1, 224, 224])\n",
            "torch.Size([10, 68, 2])\n",
            "torch.Size([10, 68, 2])\n"
          ],
          "name": "stdout"
        }
      ]
    },
    {
      "metadata": {
        "id": "bOH211DfFX2d",
        "colab_type": "code",
        "colab": {
          "base_uri": "https://localhost:8080/",
          "height": 1267
        },
        "outputId": "15260ab8-0cea-416f-cec1-144de3885a3b"
      },
      "cell_type": "code",
      "source": [
        "## TODO: visualize your test output\n",
        "# you can use the same function as before, by un-commenting the line below:\n",
        "\n",
        "visualize_output(test_images, test_outputs, gt_pts)\n"
      ],
      "execution_count": 26,
      "outputs": [
        {
          "output_type": "display_data",
          "data": {
            "image/png": "[encoded data removed]",
            "text/plain": [
              "<matplotlib.figure.Figure at 0x7f0692993e50>"
            ]
          },
          "metadata": {
            "tags": []
          }
        },
        {
          "output_type": "display_data",
          "data": {
            "image/png": "[encoded data removed]",
            "text/plain": [
              "<matplotlib.figure.Figure at 0x7f0692728e90>"
            ]
          },
          "metadata": {
            "tags": []
          }
        },
        {
          "output_type": "display_data",
          "data": {
            "image/png": "[encoded data removed]",
            "text/plain": [
              "<matplotlib.figure.Figure at 0x7f0692787190>"
            ]
          },
          "metadata": {
            "tags": []
          }
        },
        {
          "output_type": "display_data",
          "data": {
            "image/png": "[encoded data removed]",
            "text/plain": [
              "<matplotlib.figure.Figure at 0x7f06926d7690>"
            ]
          },
          "metadata": {
            "tags": []
          }
        },
        {
          "output_type": "display_data",
          "data": {
            "image/png": "[encoded data removed]",
            "text/plain": [
              "<matplotlib.figure.Figure at 0x7f06926a1f50>"
            ]
          },
          "metadata": {
            "tags": []
          }
        },
        {
          "output_type": "display_data",
          "data": {
            "image/png": "[encoded data removed]",
            "text/plain": [
              "<matplotlib.figure.Figure at 0x7f06925fe750>"
            ]
          },
          "metadata": {
            "tags": []
          }
        },
        {
          "output_type": "display_data",
          "data": {
            "image/png": "[encoded data removed]",
            "text/plain": [
              "<matplotlib.figure.Figure at 0x7f06925cbed0>"
            ]
          },
          "metadata": {
            "tags": []
          }
        },
        {
          "output_type": "display_data",
          "data": {
            "image/png": "[encoded data removed]",
            "text/plain": [
              "<matplotlib.figure.Figure at 0x7f069252f5d0>"
            ]
          },
          "metadata": {
            "tags": []
          }
        },
        {
          "output_type": "display_data",
          "data": {
            "image/png": "[encoded data removed]",
            "text/plain": [
              "<matplotlib.figure.Figure at 0x7f06924f4990>"
            ]
          },
          "metadata": {
            "tags": []
          }
        },
        {
          "output_type": "display_data",
          "data": {
            "image/png": "[encoded data removed]",
            "text/plain": [
              "<matplotlib.figure.Figure at 0x7f06924cab50>"
            ]
          },
          "metadata": {
            "tags": []
          }
        }
      ]
    },
    {
      "metadata": {
        "id": "cNKjlp5mFX2h",
        "colab_type": "text"
      },
      "cell_type": "markdown",
      "source": [
        "Once you've found a good model (or two), save your model so you can load it and use it later!"
      ]
    },
    {
      "metadata": {
        "id": "CeZC2grhFX2j",
        "colab_type": "code",
        "colab": {}
      },
      "cell_type": "code",
      "source": [
        "## TODO: change the name to something uniqe for each new model\n",
        "model_dir = 'saved_models/'\n",
        "model_name = 'keypoints_model_vgg13_3x3_0.03loss.pt'\n",
        "\n",
        "# after training, save your model parameters in the dir 'saved_models'\n",
        "torch.save(net.state_dict(), model_dir+model_name)"
      ],
      "execution_count": 0,
      "outputs": []
    },
    {
      "metadata": {
        "id": "qHHQIToLFX2m",
        "colab_type": "text"
      },
      "cell_type": "markdown",
      "source": [
        "After you've trained a well-performing model, answer the following questions so that we have some insight into your training and architecture selection process. Answering all questions is required to pass this project."
      ]
    },
    {
      "metadata": {
        "id": "HRjKk4SKFX2n",
        "colab_type": "text"
      },
      "cell_type": "markdown",
      "source": [
        "### Question 1: What optimization and loss functions did you choose and why?\n"
      ]
    },
    {
      "metadata": {
        "id": "6GIq11ejFX2p",
        "colab_type": "text"
      },
      "cell_type": "markdown",
      "source": [
        "**Answer**: write your answer here (double click to edit this cell)\n",
        "\n",
        "1) loss function : I tried nn.NLLLoss() ,  nn.L1Loss() .. but SmoothL1Loss() helped me to converge faster. It looks like for tasks like these that are not typical classification, log loss is not that better.\n",
        "\n",
        "2) optimization function : I tried Stochastic gradient descent and RMSProp. RMSProp helped me to converge faster."
      ]
    },
    {
      "metadata": {
        "id": "pCcfRHy-FX2p",
        "colab_type": "text"
      },
      "cell_type": "markdown",
      "source": [
        "### Question 2: What kind of network architecture did you start with and how did it change as you tried different architectures? Did you decide to add more convolutional layers or any layers to avoid overfitting the data?"
      ]
    },
    {
      "metadata": {
        "id": "j6SIPsP2FX2r",
        "colab_type": "text"
      },
      "cell_type": "markdown",
      "source": [
        "**Answer**: write your answer here\n",
        "\n",
        "1) I started with niamishnet :4 conv layers + 1 FC layer , increased the number of filters from 32->64->128->126 and decreased filter sizes 5->3->3->1. i used only 1 FC layer. I got min loss of 2.xx . It was not converging .  Also, i did not give any padding. May be because of this I see the keypoints are on the corners of the image. Most probably, Layer 1 is detecting false edges at edge of image.\n",
        "\n",
        "2) I increased FC layer to the above from 1 -> 3 . no improvement. \n",
        "\n",
        "3) Then I adopted VGG13 -> 10 conv layers. all filters 3x3 , but i cascaded 2 3x3 filters before maxpooling, so essentially 5 filters of 5x5 , & 3 FC layers,.  number of channels is from 64->128->256-> 512. I got several issues running this on cpu using the udacity provided workspace. \n",
        "\n",
        "4) Later I changed  the network from 10 -> 5 conv layers , with all 3x3 filters, with padding of 1 (no false boundary edges ), number of channels from 64->128->256->256.   only 1 FC layer, with drop out after every maxpool layer. This gave me loss of 0.03 in 1st epoc with 32 batch size . After 5 epocs also the same loss is there. I killed the training after 5 epocs. This is stored in \n",
        "keypoints_model_vgg13_3x3_0.03loss.pt\n",
        "\n",
        " "
      ]
    },
    {
      "metadata": {
        "id": "Xn-MygElFX2s",
        "colab_type": "text"
      },
      "cell_type": "markdown",
      "source": [
        "### Question 3: How did you decide on the number of epochs and batch_size to train your model?"
      ]
    },
    {
      "metadata": {
        "id": "F37mMxgkFX2u",
        "colab_type": "text"
      },
      "cell_type": "markdown",
      "source": [
        "**Answer**: write your answer here\n",
        "\n",
        "batch_size - > I started with 10 for above network niamishnet. Then increased to 32. Had some runtime error issues . I tried 10 & 32 for Stochastic gradient descent optimization, but did not get any better convergence of loss. \n",
        "Later I moved from stochastic gradient descent to RMS Prop and retained batch of 32. \n",
        "\n",
        "-> Epocs : I gave 10 epoc. but killed the traning after 5 epocs as i did not see any better convergence after 2 epocs."
      ]
    },
    {
      "metadata": {
        "id": "AXgvd_YaFX2u",
        "colab_type": "text"
      },
      "cell_type": "markdown",
      "source": [
        "## Feature Visualization\n",
        "\n",
        "Sometimes, neural networks are thought of as a black box, given some input, they learn to produce some output. CNN's are actually learning to recognize a variety of spatial patterns and you can visualize what each convolutional layer has been trained to recognize by looking at the weights that make up each convolutional kernel and applying those one at a time to a sample image. This technique is called feature visualization and it's useful for understanding the inner workings of a CNN."
      ]
    },
    {
      "metadata": {
        "id": "Dy586tojFX2v",
        "colab_type": "text"
      },
      "cell_type": "markdown",
      "source": [
        "In the cell below, you can see how to extract a single filter (by index) from your first convolutional layer. The filter should appear as a grayscale grid."
      ]
    },
    {
      "metadata": {
        "id": "rwJXOoMFFX2x",
        "colab_type": "code",
        "colab": {
          "base_uri": "https://localhost:8080/",
          "height": 436
        },
        "outputId": "c4ff71c4-b018-4a43-fd2d-4df6ad7af566"
      },
      "cell_type": "code",
      "source": [
        "# Get the weights in the first conv layer, \"conv1\"\n",
        "# if necessary, change this to reflect the name of your first conv layer\n",
        "weights1 = net.conv1.weight.data\n",
        "\n",
        "w = weights1.numpy()\n",
        "\n",
        "filter_index = 0\n",
        "\n",
        "print(w[filter_index][0])\n",
        "print(w[filter_index][0].shape)\n",
        "\n",
        "# display the filter weights\n",
        "plt.imshow(w[filter_index][0], cmap='gray')\n"
      ],
      "execution_count": 29,
      "outputs": [
        {
          "output_type": "stream",
          "text": [
            "[[-0.8530604  -0.46863154  0.00783284]\n",
            " [-0.58171576 -0.71721345 -0.21289699]\n",
            " [-0.4591311  -0.34023887 -0.749736  ]]\n",
            "(3, 3)\n"
          ],
          "name": "stdout"
        },
        {
          "output_type": "execute_result",
          "data": {
            "text/plain": [
              "<matplotlib.image.AxesImage at 0x7f06917ba150>"
            ]
          },
          "metadata": {
            "tags": []
          },
          "execution_count": 29
        },
        {
          "output_type": "display_data",
          "data": {
            "image/png": "[encoded data removed]",
            "text/plain": [
              "<matplotlib.figure.Figure at 0x7f0692418350>"
            ]
          },
          "metadata": {
            "tags": []
          }
        }
      ]
    },
    {
      "metadata": {
        "id": "mquDmeWyFX21",
        "colab_type": "text"
      },
      "cell_type": "markdown",
      "source": [
        "## Feature maps\n",
        "\n",
        "Each CNN has at least one convolutional layer that is composed of stacked filters (also known as convolutional kernels). As a CNN trains, it learns what weights to include in it's convolutional kernels and when these kernels are applied to some input image, they produce a set of **feature maps**. So, feature maps are just sets of filtered images; they are the images produced by applying a convolutional kernel to an input image. These maps show us the features that the different layers of the neural network learn to extract. For example, you might imagine a convolutional kernel that detects the vertical edges of a face or another one that detects the corners of eyes. You can see what kind of features each of these kernels detects by applying them to an image. One such example is shown below; from the way it brings out the lines in an the image, you might characterize this as an edge detection filter.\n",
        "\n",
        "<img src='images/feature_map_ex.png' width=50% height=50%/>\n",
        "\n",
        "\n",
        "Next, choose a test image and filter it with one of the convolutional kernels in your trained CNN; look at the filtered output to get an idea what that particular kernel detects.\n",
        "\n",
        "### TODO: Filter an image to see the effect of a convolutional kernel\n",
        "---"
      ]
    },
    {
      "metadata": {
        "id": "M4H9anpJFX22",
        "colab_type": "code",
        "colab": {}
      },
      "cell_type": "code",
      "source": [
        "##TODO: load in and display any image from the transformed test dataset\n",
        "\n",
        "## TODO: Using cv's filter2D function,\n",
        "## apply a specific set of filter weights (like the one displayed above) to the test image\n"
      ],
      "execution_count": 0,
      "outputs": []
    },
    {
      "metadata": {
        "id": "kKXKU-b7FX25",
        "colab_type": "text"
      },
      "cell_type": "markdown",
      "source": [
        "### Question 4: Choose one filter from your trained CNN and apply it to a test image; what purpose do you think it plays? What kind of feature do you think it detects?\n"
      ]
    },
    {
      "metadata": {
        "id": "YahXD6yEFX3A",
        "colab_type": "text"
      },
      "cell_type": "markdown",
      "source": [
        "**Answer**: (does it detect vertical lines or does it blur out noise, etc.) write your answer here"
      ]
    },
    {
      "metadata": {
        "id": "7x9zyUu8FX3B",
        "colab_type": "text"
      },
      "cell_type": "markdown",
      "source": [
        "---\n",
        "## Moving on!\n",
        "\n",
        "Now that you've defined and trained your model (and saved the best model), you are ready to move on to the last notebook, which combines a face detector with your saved model to create a facial keypoint detection system that can predict the keypoints on *any* face in an image!"
      ]
    }
  ]
}